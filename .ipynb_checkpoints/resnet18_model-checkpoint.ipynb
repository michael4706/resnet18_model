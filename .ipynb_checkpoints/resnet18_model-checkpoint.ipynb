{
 "cells": [
  {
   "cell_type": "markdown",
   "metadata": {},
   "source": [
    "### Readme\n",
    "* This project is done with the collaboration with Yu-Chieh Chen.\n",
    "\n",
    "\n",
    "* The project is the course project of COGS 181: Neural Networks/Deep Learning. Here, we explore the ResNet18 Structure using the Cifar Dataset. We first extract some layers from ResNet18 without pretraining to be our baseline model for image classification on Cifar Dataset. Then, we perform transfer learning by utilizing the first 6 layers of ResNet18 and combine them with our own model architecture to develop another image classification model. \n",
    "\n",
    "\n",
    "* In this notebook, we showed the proper steps of training a convolutional neural network from preprocessing the data to model evaluation.\n",
    "\n"
   ]
  },
  {
   "cell_type": "markdown",
   "metadata": {},
   "source": [
    "### Import packages"
   ]
  },
  {
   "cell_type": "code",
   "execution_count": 1,
   "metadata": {},
   "outputs": [],
   "source": [
    "%matplotlib inline\n",
    "import torchvision.datasets as datasets\n",
    "from torchvision import models\n",
    "import torch.utils.data as data\n",
    "from torch.optim import lr_scheduler\n",
    "import matplotlib.pyplot as plt\n",
    "import torch\n",
    "import torchvision\n",
    "import torchvision.transforms as transforms\n",
    "import torch.nn as nn\n",
    "import torch.nn.functional as F\n",
    "import torch.optim as optim\n",
    "import pandas as pd\n",
    "import numpy as np\n",
    "import os\n",
    "import platform\n",
    "import time\n",
    "import copy\n",
    "import random\n",
    "from torchvision import models\n",
    "from util import *\n",
    "from model import *"
   ]
  },
  {
   "cell_type": "markdown",
   "metadata": {},
   "source": [
    "### Load dataset\n",
    "\n",
    "We load the Cifar dataset from pytorch and perform some preprocessing of data:\n",
    "- randomly rotate images\n",
    "- randomly flip the images\n",
    "- Normalize the values of images\n",
    "\n",
    "Then, we create train, validation, and test dataloaders so that we can load the data during the training process."
   ]
  },
  {
   "cell_type": "code",
   "execution_count": 2,
   "metadata": {},
   "outputs": [
    {
     "name": "stdout",
     "output_type": "stream",
     "text": [
      "Files already downloaded and verified\n",
      "Files already downloaded and verified\n"
     ]
    }
   ],
   "source": [
    "transform_1 = transforms.Compose(\n",
    "    [transforms.RandomRotation(20),\n",
    "     transforms.RandomHorizontalFlip(0.5),\n",
    "     transforms.ToTensor(),\n",
    "     transforms.Normalize((0.5, 0.5, 0.5), (0.5, 0.5, 0.5))])\n",
    "\n",
    "transform = transforms.Compose(\n",
    "    [transforms.ToTensor(),\n",
    "     transforms.Normalize((0.5, 0.5, 0.5), (0.5, 0.5, 0.5))])\n",
    "\n",
    "trainset_1 = torchvision.datasets.CIFAR10(root='./data', train=True,\n",
    "                                        download=True, transform=transform_1)\n",
    "\n",
    "\n",
    "train_size = int(0.8 * len(trainset_1))\n",
    "test_size = len(trainset_1) - train_size\n",
    "train_dataset, val_dataset = torch.utils.data.random_split(trainset_1, [train_size, test_size])\n",
    "\n",
    "trainloader_1 = torch.utils.data.DataLoader(train_dataset, batch_size=32,\n",
    "                                          shuffle=True, num_workers=0, worker_init_fn=2)\n",
    "\n",
    "valloader_1 = torch.utils.data.DataLoader(val_dataset, batch_size=32,\n",
    "                                          shuffle=True, num_workers=0, worker_init_fn=2)\n",
    "\n",
    "testset = torchvision.datasets.CIFAR10(root='./data', train=False,\n",
    "                                       download=True, transform=transform)\n",
    "testloader = torch.utils.data.DataLoader(testset, batch_size=32,\n",
    "                                         shuffle=False, num_workers=0)\n",
    "\n",
    "classes = ('plane', 'car', 'bird', 'cat',\n",
    "           'deer', 'dog', 'frog', 'horse', 'ship', 'truck')"
   ]
  },
  {
   "cell_type": "markdown",
   "metadata": {},
   "source": [
    "### Define parameters\n",
    "\n",
    "We define more parameters to train the model and print out the ResNet18 structure that we defined."
   ]
  },
  {
   "cell_type": "code",
   "execution_count": 3,
   "metadata": {},
   "outputs": [
    {
     "name": "stdout",
     "output_type": "stream",
     "text": [
      "ResNet18(\n",
      "  (features): ResNet(\n",
      "    (conv1): Conv2d(3, 64, kernel_size=(7, 7), stride=(2, 2), padding=(3, 3), bias=False)\n",
      "    (bn1): BatchNorm2d(64, eps=1e-05, momentum=0.1, affine=True, track_running_stats=True)\n",
      "    (relu): LeakyReLU(negative_slope=0.01, inplace=True)\n",
      "    (maxpool): MaxPool2d(kernel_size=3, stride=2, padding=1, dilation=1, ceil_mode=False)\n",
      "    (layer1): Sequential(\n",
      "      (0): BasicBlock(\n",
      "        (conv1): Conv2d(64, 64, kernel_size=(3, 3), stride=(1, 1), padding=(1, 1), bias=False)\n",
      "        (bn1): BatchNorm2d(64, eps=1e-05, momentum=0.1, affine=True, track_running_stats=True)\n",
      "        (relu): ReLU(inplace=True)\n",
      "        (conv2): Conv2d(64, 64, kernel_size=(3, 3), stride=(1, 1), padding=(1, 1), bias=False)\n",
      "        (bn2): BatchNorm2d(64, eps=1e-05, momentum=0.1, affine=True, track_running_stats=True)\n",
      "      )\n",
      "      (1): BasicBlock(\n",
      "        (conv1): Conv2d(64, 64, kernel_size=(3, 3), stride=(1, 1), padding=(1, 1), bias=False)\n",
      "        (bn1): BatchNorm2d(64, eps=1e-05, momentum=0.1, affine=True, track_running_stats=True)\n",
      "        (relu): ReLU(inplace=True)\n",
      "        (conv2): Conv2d(64, 64, kernel_size=(3, 3), stride=(1, 1), padding=(1, 1), bias=False)\n",
      "        (bn2): BatchNorm2d(64, eps=1e-05, momentum=0.1, affine=True, track_running_stats=True)\n",
      "      )\n",
      "    )\n",
      "    (layer2): Sequential(\n",
      "      (0): BasicBlock(\n",
      "        (conv1): Conv2d(64, 128, kernel_size=(3, 3), stride=(2, 2), padding=(1, 1), bias=False)\n",
      "        (bn1): BatchNorm2d(128, eps=1e-05, momentum=0.1, affine=True, track_running_stats=True)\n",
      "        (relu): ReLU(inplace=True)\n",
      "        (conv2): Conv2d(128, 128, kernel_size=(3, 3), stride=(1, 1), padding=(1, 1), bias=False)\n",
      "        (bn2): BatchNorm2d(128, eps=1e-05, momentum=0.1, affine=True, track_running_stats=True)\n",
      "        (downsample): Sequential(\n",
      "          (0): Conv2d(64, 128, kernel_size=(1, 1), stride=(2, 2), bias=False)\n",
      "          (1): BatchNorm2d(128, eps=1e-05, momentum=0.1, affine=True, track_running_stats=True)\n",
      "        )\n",
      "      )\n",
      "      (1): BasicBlock(\n",
      "        (conv1): Conv2d(128, 128, kernel_size=(3, 3), stride=(1, 1), padding=(1, 1), bias=False)\n",
      "        (bn1): BatchNorm2d(128, eps=1e-05, momentum=0.1, affine=True, track_running_stats=True)\n",
      "        (relu): ReLU(inplace=True)\n",
      "        (conv2): Conv2d(128, 128, kernel_size=(3, 3), stride=(1, 1), padding=(1, 1), bias=False)\n",
      "        (bn2): BatchNorm2d(128, eps=1e-05, momentum=0.1, affine=True, track_running_stats=True)\n",
      "      )\n",
      "    )\n",
      "    (layer3): Sequential()\n",
      "    (layer4): Sequential()\n",
      "    (avgpool): AdaptiveAvgPool2d(output_size=(1, 1))\n",
      "    (fc): Linear(in_features=128, out_features=10, bias=True)\n",
      "  )\n",
      ")\n"
     ]
    }
   ],
   "source": [
    "model_1 = ResNet18()\n",
    "#define loss function, optimizer, scheduler, batch size, and name of the model to be saved.\n",
    "criterion = nn.CrossEntropyLoss()\n",
    "optimizer = optim.Adam(model_1.parameters(), lr=0.001)\n",
    "exp_lr_scheduler = lr_scheduler.StepLR(optimizer, step_size=5, gamma=0.5)\n",
    "device = torch.device(\"cuda:0\" if torch.cuda.is_available() else \"cpu\")\n",
    "batch_size = 32\n",
    "save_path = \"./ResNet18.pt\"\n",
    "print(model_1)"
   ]
  },
  {
   "cell_type": "markdown",
   "metadata": {},
   "source": [
    "### Training\n",
    "We call the train_model function for training"
   ]
  },
  {
   "cell_type": "code",
   "execution_count": 4,
   "metadata": {
    "scrolled": true
   },
   "outputs": [
    {
     "name": "stdout",
     "output_type": "stream",
     "text": [
      "Epoch 1/30\n",
      "----------\n",
      "Train Loss: 1.4463 Acc: 0.4715\n",
      "Validation Loss: 1.2140 Acc: 0.5645\n",
      "Validation loss decreased (inf --> 1.213967).  Saving model ...\n",
      "Epoch 2/30\n",
      "----------\n",
      "Train Loss: 1.1364 Acc: 0.5956\n",
      "Validation Loss: 1.0936 Acc: 0.6087\n",
      "Validation loss decreased (1.213967 --> 1.093576).  Saving model ...\n",
      "Epoch 3/30\n",
      "----------\n",
      "Train Loss: 0.9907 Acc: 0.6551\n",
      "Validation Loss: 0.9744 Acc: 0.6586\n",
      "Validation loss decreased (1.093576 --> 0.974401).  Saving model ...\n",
      "Epoch 4/30\n",
      "----------\n",
      "Train Loss: 0.9107 Acc: 0.6810\n",
      "Validation Loss: 0.8681 Acc: 0.6939\n",
      "Validation loss decreased (0.974401 --> 0.868076).  Saving model ...\n",
      "Epoch 5/30\n",
      "----------\n",
      "Train Loss: 0.8395 Acc: 0.7074\n",
      "Validation Loss: 0.8333 Acc: 0.7071\n",
      "Validation loss decreased (0.868076 --> 0.833295).  Saving model ...\n",
      "Epoch 6/30\n",
      "----------\n",
      "Train Loss: 0.7182 Acc: 0.7514\n",
      "Validation Loss: 0.7475 Acc: 0.7370\n",
      "Validation loss decreased (0.833295 --> 0.747463).  Saving model ...\n",
      "Epoch 7/30\n",
      "----------\n",
      "Train Loss: 0.6857 Acc: 0.7586\n",
      "Validation Loss: 0.6953 Acc: 0.7552\n",
      "Validation loss decreased (0.747463 --> 0.695264).  Saving model ...\n",
      "Epoch 8/30\n",
      "----------\n",
      "Train Loss: 0.6498 Acc: 0.7706\n",
      "Validation Loss: 0.7249 Acc: 0.7465\n",
      "Epoch 9/30\n",
      "----------\n",
      "Train Loss: 0.6253 Acc: 0.7823\n",
      "Validation Loss: 0.6833 Acc: 0.7575\n",
      "Validation loss decreased (0.695264 --> 0.683334).  Saving model ...\n",
      "Epoch 10/30\n",
      "----------\n",
      "Train Loss: 0.6015 Acc: 0.7892\n",
      "Validation Loss: 0.6850 Acc: 0.7662\n",
      "Epoch 11/30\n",
      "----------\n",
      "Train Loss: 0.5376 Acc: 0.8136\n",
      "Validation Loss: 0.6383 Acc: 0.7796\n",
      "Validation loss decreased (0.683334 --> 0.638291).  Saving model ...\n",
      "Epoch 12/30\n",
      "----------\n",
      "Train Loss: 0.5092 Acc: 0.8215\n",
      "Validation Loss: 0.6520 Acc: 0.7763\n",
      "Epoch 13/30\n",
      "----------\n",
      "Train Loss: 0.5043 Acc: 0.8230\n",
      "Validation Loss: 0.6336 Acc: 0.7783\n",
      "Validation loss decreased (0.638291 --> 0.633607).  Saving model ...\n",
      "Epoch 14/30\n",
      "----------\n",
      "Train Loss: 0.4884 Acc: 0.8273\n",
      "Validation Loss: 0.6322 Acc: 0.7820\n",
      "Validation loss decreased (0.633607 --> 0.632171).  Saving model ...\n",
      "Epoch 15/30\n",
      "----------\n",
      "Train Loss: 0.4745 Acc: 0.8321\n",
      "Validation Loss: 0.6639 Acc: 0.7782\n",
      "Epoch 16/30\n",
      "----------\n",
      "Train Loss: 0.4439 Acc: 0.8454\n",
      "Validation Loss: 0.6098 Acc: 0.7935\n",
      "Validation loss decreased (0.632171 --> 0.609791).  Saving model ...\n",
      "Epoch 17/30\n",
      "----------\n",
      "Train Loss: 0.4248 Acc: 0.8515\n",
      "Validation Loss: 0.6143 Acc: 0.7923\n",
      "Epoch 18/30\n",
      "----------\n",
      "Train Loss: 0.4147 Acc: 0.8560\n",
      "Validation Loss: 0.6223 Acc: 0.7885\n",
      "Epoch 19/30\n",
      "----------\n",
      "Train Loss: 0.4025 Acc: 0.8584\n",
      "Validation Loss: 0.6256 Acc: 0.7892\n",
      "Epoch 20/30\n",
      "----------\n",
      "Train Loss: 0.3984 Acc: 0.8619\n",
      "Validation Loss: 0.6341 Acc: 0.7908\n",
      "Epoch 21/30\n",
      "----------\n",
      "Train Loss: 0.3758 Acc: 0.8683\n",
      "Validation Loss: 0.6133 Acc: 0.7956\n",
      "Epoch 22/30\n",
      "----------\n",
      "Train Loss: 0.3764 Acc: 0.8684\n",
      "Validation Loss: 0.6161 Acc: 0.7919\n",
      "Epoch 23/30\n",
      "----------\n",
      "Train Loss: 0.3686 Acc: 0.8695\n",
      "Validation Loss: 0.6215 Acc: 0.7943\n",
      "Epoch 24/30\n",
      "----------\n",
      "Train Loss: 0.3687 Acc: 0.8698\n",
      "Validation Loss: 0.6200 Acc: 0.7932\n",
      "Epoch 25/30\n",
      "----------\n",
      "Train Loss: 0.3623 Acc: 0.8729\n",
      "Validation Loss: 0.6175 Acc: 0.7962\n",
      "Epoch 26/30\n",
      "----------\n",
      "Train Loss: 0.3504 Acc: 0.8780\n",
      "Validation Loss: 0.6107 Acc: 0.7950\n",
      "Epoch 27/30\n",
      "----------\n",
      "Train Loss: 0.3497 Acc: 0.8776\n",
      "Validation Loss: 0.6273 Acc: 0.7915\n",
      "Epoch 28/30\n",
      "----------\n",
      "Train Loss: 0.3440 Acc: 0.8790\n",
      "Validation Loss: 0.6077 Acc: 0.7998\n",
      "Validation loss decreased (0.609791 --> 0.607709).  Saving model ...\n",
      "Epoch 29/30\n",
      "----------\n",
      "Train Loss: 0.3435 Acc: 0.8785\n",
      "Validation Loss: 0.6249 Acc: 0.7949\n",
      "Epoch 30/30\n",
      "----------\n",
      "Train Loss: 0.3435 Acc: 0.8807\n",
      "Validation Loss: 0.6209 Acc: 0.8008\n",
      "Training complete in 12m 32s\n",
      "minimum val loss: 0.607709\n"
     ]
    }
   ],
   "source": [
    "model_resnet18,train_acc, train_loss,val_acc,val_loss = train_model(model_1, criterion, optimizer, exp_lr_scheduler,\n",
    "                                                              trainloader_1, valloader_1, batch_size, \n",
    "                                                              device, save_path, num_epochs=30)"
   ]
  },
  {
   "cell_type": "markdown",
   "metadata": {},
   "source": [
    "###  Visualizing the training and validation accuracy and loss"
   ]
  },
  {
   "cell_type": "code",
   "execution_count": 5,
   "metadata": {},
   "outputs": [
    {
     "data": {
      "text/plain": [
       "<matplotlib.legend.Legend at 0x7f22acfe98d0>"
      ]
     },
     "execution_count": 5,
     "metadata": {},
     "output_type": "execute_result"
    },
    {
     "data": {
      "image/png": "[encoded data removed]",
      "text/plain": [
       "<Figure size 432x288 with 1 Axes>"
      ]
     },
     "metadata": {
      "needs_background": "light"
     },
     "output_type": "display_data"
    }
   ],
   "source": [
    "ax = plt.gca()\n",
    "plt.plot(train_acc)\n",
    "plt.plot(val_acc)\n",
    "plt.title(\"Accuracy across epochs\")\n",
    "plt.xlabel(\"epochs\")\n",
    "plt.ylabel(\"Accuracy\")\n",
    "ax.legend(['Train','Validation'],loc='lower right')"
   ]
  },
  {
   "cell_type": "code",
   "execution_count": 6,
   "metadata": {
    "scrolled": true
   },
   "outputs": [
    {
     "data": {
      "text/plain": [
       "<matplotlib.legend.Legend at 0x7f22a417edd8>"
      ]
     },
     "execution_count": 6,
     "metadata": {},
     "output_type": "execute_result"
    },
    {
     "data": {
      "image/png": "[encoded data removed]",
      "text/plain": [
       "<Figure size 432x288 with 1 Axes>"
      ]
     },
     "metadata": {
      "needs_background": "light"
     },
     "output_type": "display_data"
    }
   ],
   "source": [
    "ax = plt.gca()\n",
    "plt.plot(train_loss)\n",
    "plt.plot(val_loss)\n",
    "plt.title(\"Loss across epochs\")\n",
    "plt.xlabel(\"epochs\")\n",
    "plt.ylabel(\"Loss\")\n",
    "ax.legend(['Train','Validation'],loc='upper right')\n"
   ]
  },
  {
   "cell_type": "markdown",
   "metadata": {},
   "source": [
    "### Evaluation\n",
    "* Calculate the overall accuracy of all class prediction\n",
    "* Calculate the accuracy of every specific class prediction"
   ]
  },
  {
   "cell_type": "code",
   "execution_count": 7,
   "metadata": {},
   "outputs": [
    {
     "name": "stdout",
     "output_type": "stream",
     "text": [
      "Accuracy of the network all images in train set: 89.90\n",
      "--------------------------------------------------\n",
      "Accuracy of the network all images in validation set: 79.60\n",
      "--------------------------------------------------\n",
      "Accuracy of the network all images in test set: 81.19\n"
     ]
    }
   ],
   "source": [
    "calculate_accuracy(model_resnet18, trainloader_1, \"train\")\n",
    "print(\"-\" * 50)\n",
    "calculate_accuracy(model_resnet18, valloader_1, \"validation\")\n",
    "print(\"-\" * 50)\n",
    "calculate_accuracy(model_resnet18, testloader, \"test\")"
   ]
  },
  {
   "cell_type": "code",
   "execution_count": 8,
   "metadata": {},
   "outputs": [
    {
     "name": "stdout",
     "output_type": "stream",
     "text": [
      "Accuracy of plane in train set: 92.13\n",
      "Accuracy of car in train set: 93.17\n",
      "Accuracy of bird in train set: 87.63\n",
      "Accuracy of cat in train set: 75.39\n",
      "Accuracy of deer in train set: 91.07\n",
      "Accuracy of dog in train set: 80.08\n",
      "Accuracy of frog in train set: 90.91\n",
      "Accuracy of horse in train set: 91.35\n",
      "Accuracy of ship in train set: 94.71\n",
      "Accuracy of truck in train set: 92.43\n",
      "--------------------------------------------------\n",
      "Accuracy of plane in validation set: 80.47\n",
      "Accuracy of car in validation set: 95.28\n",
      "Accuracy of bird in validation set: 72.73\n",
      "Accuracy of cat in validation set: 59.05\n",
      "Accuracy of deer in validation set: 76.38\n",
      "Accuracy of dog in validation set: 60.47\n",
      "Accuracy of frog in validation set: 84.43\n",
      "Accuracy of horse in validation set: 84.73\n",
      "Accuracy of ship in validation set: 89.15\n",
      "Accuracy of truck in validation set: 88.72\n",
      "--------------------------------------------------\n",
      "Accuracy of plane in tetestst set: 84.07\n",
      "Accuracy of car in tetestst set: 86.09\n",
      "Accuracy of bird in tetestst set: 69.74\n",
      "Accuracy of cat in tetestst set: 62.79\n",
      "Accuracy of deer in tetestst set: 79.55\n",
      "Accuracy of dog in tetestst set: 70.80\n",
      "Accuracy of frog in tetestst set: 82.64\n",
      "Accuracy of horse in tetestst set: 89.84\n",
      "Accuracy of ship in tetestst set: 87.61\n",
      "Accuracy of truck in tetestst set: 89.71\n"
     ]
    }
   ],
   "source": [
    "calculate_accuracy_specific(model_resnet18, trainloader_1, classes, \"train\")\n",
    "print(\"-\" * 50)\n",
    "calculate_accuracy_specific(model_resnet18, valloader_1, classes, \"validation\")\n",
    "print(\"-\" * 50)\n",
    "calculate_accuracy_specific(model_resnet18, testloader, classes, \"tetestst\")"
   ]
  },
  {
   "cell_type": "markdown",
   "metadata": {},
   "source": [
    "# Transfer Learning with resnet18\n",
    "\n",
    "Now, we utilize the first six layers from resnet18 and fix its gradient. Then, we define additional layers to build another model"
   ]
  },
  {
   "cell_type": "markdown",
   "metadata": {},
   "source": [
    "### Define parameters\n",
    "\n",
    "We define more parameters to train the model and print out the ResNet18_tl structure that we defined."
   ]
  },
  {
   "cell_type": "code",
   "execution_count": 9,
   "metadata": {},
   "outputs": [
    {
     "name": "stdout",
     "output_type": "stream",
     "text": [
      "ResNet18_tr(\n",
      "  (features): Sequential(\n",
      "    (0): Conv2d(3, 64, kernel_size=(7, 7), stride=(2, 2), padding=(3, 3), bias=False)\n",
      "    (1): BatchNorm2d(64, eps=1e-05, momentum=0.1, affine=True, track_running_stats=True)\n",
      "    (2): ReLU(inplace=True)\n",
      "    (3): MaxPool2d(kernel_size=3, stride=2, padding=1, dilation=1, ceil_mode=False)\n",
      "    (4): Sequential(\n",
      "      (0): BasicBlock(\n",
      "        (conv1): Conv2d(64, 64, kernel_size=(3, 3), stride=(1, 1), padding=(1, 1), bias=False)\n",
      "        (bn1): BatchNorm2d(64, eps=1e-05, momentum=0.1, affine=True, track_running_stats=True)\n",
      "        (relu): ReLU(inplace=True)\n",
      "        (conv2): Conv2d(64, 64, kernel_size=(3, 3), stride=(1, 1), padding=(1, 1), bias=False)\n",
      "        (bn2): BatchNorm2d(64, eps=1e-05, momentum=0.1, affine=True, track_running_stats=True)\n",
      "      )\n",
      "      (1): BasicBlock(\n",
      "        (conv1): Conv2d(64, 64, kernel_size=(3, 3), stride=(1, 1), padding=(1, 1), bias=False)\n",
      "        (bn1): BatchNorm2d(64, eps=1e-05, momentum=0.1, affine=True, track_running_stats=True)\n",
      "        (relu): ReLU(inplace=True)\n",
      "        (conv2): Conv2d(64, 64, kernel_size=(3, 3), stride=(1, 1), padding=(1, 1), bias=False)\n",
      "        (bn2): BatchNorm2d(64, eps=1e-05, momentum=0.1, affine=True, track_running_stats=True)\n",
      "      )\n",
      "    )\n",
      "    (5): Sequential(\n",
      "      (0): BasicBlock(\n",
      "        (conv1): Conv2d(64, 128, kernel_size=(3, 3), stride=(2, 2), padding=(1, 1), bias=False)\n",
      "        (bn1): BatchNorm2d(128, eps=1e-05, momentum=0.1, affine=True, track_running_stats=True)\n",
      "        (relu): ReLU(inplace=True)\n",
      "        (conv2): Conv2d(128, 128, kernel_size=(3, 3), stride=(1, 1), padding=(1, 1), bias=False)\n",
      "        (bn2): BatchNorm2d(128, eps=1e-05, momentum=0.1, affine=True, track_running_stats=True)\n",
      "        (downsample): Sequential(\n",
      "          (0): Conv2d(64, 128, kernel_size=(1, 1), stride=(2, 2), bias=False)\n",
      "          (1): BatchNorm2d(128, eps=1e-05, momentum=0.1, affine=True, track_running_stats=True)\n",
      "        )\n",
      "      )\n",
      "      (1): BasicBlock(\n",
      "        (conv1): Conv2d(128, 128, kernel_size=(3, 3), stride=(1, 1), padding=(1, 1), bias=False)\n",
      "        (bn1): BatchNorm2d(128, eps=1e-05, momentum=0.1, affine=True, track_running_stats=True)\n",
      "        (relu): ReLU(inplace=True)\n",
      "        (conv2): Conv2d(128, 128, kernel_size=(3, 3), stride=(1, 1), padding=(1, 1), bias=False)\n",
      "        (bn2): BatchNorm2d(128, eps=1e-05, momentum=0.1, affine=True, track_running_stats=True)\n",
      "      )\n",
      "    )\n",
      "  )\n",
      "  (conv1): Conv2d(128, 256, kernel_size=(2, 2), stride=(1, 1), padding=(1, 1))\n",
      "  (conv2): Conv2d(256, 256, kernel_size=(3, 3), stride=(1, 1), padding=(1, 1))\n",
      "  (bh1): BatchNorm2d(256, eps=1e-05, momentum=0.1, affine=True, track_running_stats=True)\n",
      "  (pool3): AvgPool2d(kernel_size=(2, 2), stride=(2, 2), padding=0)\n",
      "  (lin1): Linear(in_features=1024, out_features=500, bias=True)\n",
      "  (lin2): Linear(in_features=500, out_features=10, bias=True)\n",
      ")\n"
     ]
    }
   ],
   "source": [
    "model_2 = ResNet18_tl()\n",
    "criterion = nn.CrossEntropyLoss()\n",
    "optimizer = optim.Adam(model_2.parameters(), lr=0.001)\n",
    "exp_lr_scheduler = lr_scheduler.StepLR(optimizer, step_size=5, gamma=0.5)\n",
    "device = torch.device(\"cuda:0\" if torch.cuda.is_available() else \"cpu\")\n",
    "batch_size = 32\n",
    "save_path = \"./ResNet18_tl\"\n",
    "print(model_2)"
   ]
  },
  {
   "cell_type": "markdown",
   "metadata": {},
   "source": [
    "### Training\n",
    "We call the train_model function for training"
   ]
  },
  {
   "cell_type": "code",
   "execution_count": 10,
   "metadata": {},
   "outputs": [
    {
     "name": "stdout",
     "output_type": "stream",
     "text": [
      "Epoch 1/30\n",
      "----------\n",
      "Train Loss: 1.0969 Acc: 0.6110\n",
      "Validation Loss: 0.9049 Acc: 0.6814\n",
      "Validation loss decreased (inf --> 0.904923).  Saving model ...\n",
      "Epoch 2/30\n",
      "----------\n",
      "Train Loss: 0.9152 Acc: 0.6787\n",
      "Validation Loss: 0.8393 Acc: 0.7033\n",
      "Validation loss decreased (0.904923 --> 0.839304).  Saving model ...\n",
      "Epoch 3/30\n",
      "----------\n",
      "Train Loss: 0.8418 Acc: 0.7038\n",
      "Validation Loss: 0.8440 Acc: 0.7010\n",
      "Epoch 4/30\n",
      "----------\n",
      "Train Loss: 0.7937 Acc: 0.7222\n",
      "Validation Loss: 0.8209 Acc: 0.7219\n",
      "Validation loss decreased (0.839304 --> 0.820897).  Saving model ...\n",
      "Epoch 5/30\n",
      "----------\n",
      "Train Loss: 0.7596 Acc: 0.7357\n",
      "Validation Loss: 0.7664 Acc: 0.7306\n",
      "Validation loss decreased (0.820897 --> 0.766399).  Saving model ...\n",
      "Epoch 6/30\n",
      "----------\n",
      "Train Loss: 0.6738 Acc: 0.7615\n",
      "Validation Loss: 0.7172 Acc: 0.7441\n",
      "Validation loss decreased (0.766399 --> 0.717173).  Saving model ...\n",
      "Epoch 7/30\n",
      "----------\n",
      "Train Loss: 0.6396 Acc: 0.7763\n",
      "Validation Loss: 0.6973 Acc: 0.7575\n",
      "Validation loss decreased (0.717173 --> 0.697298).  Saving model ...\n",
      "Epoch 8/30\n",
      "----------\n",
      "Train Loss: 0.6235 Acc: 0.7803\n",
      "Validation Loss: 0.6968 Acc: 0.7514\n",
      "Validation loss decreased (0.697298 --> 0.696834).  Saving model ...\n",
      "Epoch 9/30\n",
      "----------\n",
      "Train Loss: 0.6031 Acc: 0.7887\n",
      "Validation Loss: 0.6857 Acc: 0.7648\n",
      "Validation loss decreased (0.696834 --> 0.685728).  Saving model ...\n",
      "Epoch 10/30\n",
      "----------\n",
      "Train Loss: 0.5940 Acc: 0.7917\n",
      "Validation Loss: 0.6778 Acc: 0.7613\n",
      "Validation loss decreased (0.685728 --> 0.677830).  Saving model ...\n",
      "Epoch 11/30\n",
      "----------\n",
      "Train Loss: 0.5426 Acc: 0.8054\n",
      "Validation Loss: 0.6464 Acc: 0.7779\n",
      "Validation loss decreased (0.677830 --> 0.646357).  Saving model ...\n",
      "Epoch 12/30\n",
      "----------\n",
      "Train Loss: 0.5284 Acc: 0.8148\n",
      "Validation Loss: 0.6301 Acc: 0.7771\n",
      "Validation loss decreased (0.646357 --> 0.630071).  Saving model ...\n",
      "Epoch 13/30\n",
      "----------\n",
      "Train Loss: 0.5147 Acc: 0.8192\n",
      "Validation Loss: 0.6534 Acc: 0.7760\n",
      "Epoch 14/30\n",
      "----------\n",
      "Train Loss: 0.5094 Acc: 0.8195\n",
      "Validation Loss: 0.6408 Acc: 0.7753\n",
      "Epoch 15/30\n",
      "----------\n",
      "Train Loss: 0.5003 Acc: 0.8236\n",
      "Validation Loss: 0.6589 Acc: 0.7754\n",
      "Epoch 16/30\n",
      "----------\n",
      "Train Loss: 0.4711 Acc: 0.8345\n",
      "Validation Loss: 0.6438 Acc: 0.7785\n",
      "Epoch 17/30\n",
      "----------\n",
      "Train Loss: 0.4612 Acc: 0.8350\n",
      "Validation Loss: 0.6299 Acc: 0.7853\n",
      "Validation loss decreased (0.630071 --> 0.629945).  Saving model ...\n",
      "Epoch 18/30\n",
      "----------\n",
      "Train Loss: 0.4548 Acc: 0.8403\n",
      "Validation Loss: 0.6525 Acc: 0.7795\n",
      "Epoch 19/30\n",
      "----------\n",
      "Train Loss: 0.4492 Acc: 0.8403\n",
      "Validation Loss: 0.6366 Acc: 0.7850\n",
      "Epoch 20/30\n",
      "----------\n",
      "Train Loss: 0.4472 Acc: 0.8408\n",
      "Validation Loss: 0.6526 Acc: 0.7768\n",
      "Epoch 21/30\n",
      "----------\n",
      "Train Loss: 0.4291 Acc: 0.8478\n",
      "Validation Loss: 0.6352 Acc: 0.7864\n",
      "Epoch 22/30\n",
      "----------\n",
      "Train Loss: 0.4287 Acc: 0.8481\n",
      "Validation Loss: 0.6393 Acc: 0.7889\n",
      "Epoch 23/30\n",
      "----------\n",
      "Train Loss: 0.4232 Acc: 0.8503\n",
      "Validation Loss: 0.6388 Acc: 0.7834\n",
      "Epoch 24/30\n",
      "----------\n",
      "Train Loss: 0.4228 Acc: 0.8500\n",
      "Validation Loss: 0.6321 Acc: 0.7905\n",
      "Epoch 25/30\n",
      "----------\n",
      "Train Loss: 0.4180 Acc: 0.8510\n",
      "Validation Loss: 0.6372 Acc: 0.7798\n",
      "Epoch 26/30\n",
      "----------\n",
      "Train Loss: 0.4072 Acc: 0.8550\n",
      "Validation Loss: 0.6293 Acc: 0.7872\n",
      "Validation loss decreased (0.629945 --> 0.629293).  Saving model ...\n",
      "Epoch 27/30\n",
      "----------\n",
      "Train Loss: 0.4073 Acc: 0.8555\n",
      "Validation Loss: 0.6381 Acc: 0.7836\n",
      "Epoch 28/30\n",
      "----------\n",
      "Train Loss: 0.4066 Acc: 0.8554\n",
      "Validation Loss: 0.6354 Acc: 0.7867\n",
      "Epoch 29/30\n",
      "----------\n",
      "Train Loss: 0.4034 Acc: 0.8572\n",
      "Validation Loss: 0.6417 Acc: 0.7811\n",
      "Epoch 30/30\n",
      "----------\n",
      "Train Loss: 0.4048 Acc: 0.8584\n",
      "Validation Loss: 0.6251 Acc: 0.7893\n",
      "Validation loss decreased (0.629293 --> 0.625080).  Saving model ...\n",
      "Training complete in 7m 3s\n",
      "minimum val loss: 0.625080\n"
     ]
    }
   ],
   "source": [
    "model_resnet18_tl,train_acc, train_loss,val_acc,val_loss = train_model(model_2, criterion, optimizer,\n",
    "                                                                       exp_lr_scheduler,trainloader_1, valloader_1, \n",
    "                                                                       batch_size,device, save_path, num_epochs=30)"
   ]
  },
  {
   "cell_type": "markdown",
   "metadata": {},
   "source": [
    "###  Visualizing the training and validation accuracy and loss"
   ]
  },
  {
   "cell_type": "code",
   "execution_count": 11,
   "metadata": {},
   "outputs": [
    {
     "data": {
      "text/plain": [
       "<matplotlib.legend.Legend at 0x7f22a4031f28>"
      ]
     },
     "execution_count": 11,
     "metadata": {},
     "output_type": "execute_result"
    },
    {
     "data": {
      "image/png": "[encoded data removed]",
      "text/plain": [
       "<Figure size 432x288 with 1 Axes>"
      ]
     },
     "metadata": {
      "needs_background": "light"
     },
     "output_type": "display_data"
    }
   ],
   "source": [
    "ax = plt.gca()\n",
    "plt.plot(train_acc)\n",
    "plt.plot(val_acc)\n",
    "plt.title(\"Accuracy across epochs\")\n",
    "plt.xlabel(\"epochs\")\n",
    "plt.ylabel(\"Accuracy\")\n",
    "ax.legend(['Train','Validation'],loc='lower right')"
   ]
  },
  {
   "cell_type": "code",
   "execution_count": 12,
   "metadata": {},
   "outputs": [
    {
     "data": {
      "text/plain": [
       "<matplotlib.legend.Legend at 0x7f22a0f99e48>"
      ]
     },
     "execution_count": 12,
     "metadata": {},
     "output_type": "execute_result"
    },
    {
     "data": {
      "image/png": "[encoded data removed]",
      "text/plain": [
       "<Figure size 432x288 with 1 Axes>"
      ]
     },
     "metadata": {
      "needs_background": "light"
     },
     "output_type": "display_data"
    }
   ],
   "source": [
    "ax = plt.gca()\n",
    "plt.plot(train_loss)\n",
    "plt.plot(val_loss)\n",
    "plt.title(\"Loss across epochs\")\n",
    "plt.xlabel(\"epochs\")\n",
    "plt.ylabel(\"Loss\")\n",
    "ax.legend(['Train','Validation'],loc='upper right')\n"
   ]
  },
  {
   "cell_type": "markdown",
   "metadata": {},
   "source": [
    "### Evaluation\n",
    "* Calculate the overall accuracy of all class prediction\n",
    "* Calculate the accuracy of every specific class prediction"
   ]
  },
  {
   "cell_type": "code",
   "execution_count": 13,
   "metadata": {},
   "outputs": [
    {
     "name": "stdout",
     "output_type": "stream",
     "text": [
      "Accuracy of the network all images in train set: 86.85\n",
      "--------------------------------------------------\n",
      "Accuracy of the network all images in validation set: 79.00\n",
      "--------------------------------------------------\n",
      "Accuracy of the network all images in test set: 81.10\n"
     ]
    }
   ],
   "source": [
    "calculate_accuracy(model_resnet18_tl, trainloader_1, \"train\")\n",
    "print(\"-\" * 50)\n",
    "calculate_accuracy(model_resnet18_tl, valloader_1, \"validation\")\n",
    "print(\"-\" * 50)\n",
    "calculate_accuracy(model_resnet18_tl, testloader, \"test\")"
   ]
  },
  {
   "cell_type": "code",
   "execution_count": 14,
   "metadata": {},
   "outputs": [
    {
     "name": "stdout",
     "output_type": "stream",
     "text": [
      "Accuracy of plane in train set: 88.43\n",
      "Accuracy of car in train set: 91.41\n",
      "Accuracy of bird in train set: 84.90\n",
      "Accuracy of cat in train set: 73.96\n",
      "Accuracy of deer in train set: 85.86\n",
      "Accuracy of dog in train set: 81.22\n",
      "Accuracy of frog in train set: 89.17\n",
      "Accuracy of horse in train set: 87.76\n",
      "Accuracy of ship in train set: 93.45\n",
      "Accuracy of truck in train set: 90.68\n",
      "--------------------------------------------------\n",
      "Accuracy of plane in validation set: 85.25\n",
      "Accuracy of car in validation set: 88.43\n",
      "Accuracy of bird in validation set: 72.80\n",
      "Accuracy of cat in validation set: 57.52\n",
      "Accuracy of deer in validation set: 79.39\n",
      "Accuracy of dog in validation set: 64.46\n",
      "Accuracy of frog in validation set: 83.33\n",
      "Accuracy of horse in validation set: 89.76\n",
      "Accuracy of ship in validation set: 86.09\n",
      "Accuracy of truck in validation set: 83.47\n",
      "--------------------------------------------------\n",
      "Accuracy of plane in tetestst set: 79.65\n",
      "Accuracy of car in tetestst set: 90.43\n",
      "Accuracy of bird in tetestst set: 78.95\n",
      "Accuracy of cat in tetestst set: 69.77\n",
      "Accuracy of deer in tetestst set: 76.52\n",
      "Accuracy of dog in tetestst set: 68.14\n",
      "Accuracy of frog in tetestst set: 85.95\n",
      "Accuracy of horse in tetestst set: 84.38\n",
      "Accuracy of ship in tetestst set: 86.73\n",
      "Accuracy of truck in tetestst set: 89.71\n"
     ]
    }
   ],
   "source": [
    "calculate_accuracy_specific(model_resnet18_tl, trainloader_1, classes, \"train\")\n",
    "print(\"-\" * 50)\n",
    "calculate_accuracy_specific(model_resnet18_tl, valloader_1, classes, \"validation\")\n",
    "print(\"-\" * 50)\n",
    "calculate_accuracy_specific(model_resnet18_tl, testloader, classes, \"tetestst\")"
   ]
  },
  {
   "cell_type": "markdown",
   "metadata": {},
   "source": [
    "### Conclusion"
   ]
  },
  {
   "cell_type": "markdown",
   "metadata": {},
   "source": [
    "Based on the result, the ResNet18 model outperforms the ResNet18_tl model. This is a bit counterintuitive because originally we thought that transfer learning would help the model to converge faster and achieve higher classification accuracy and lower loss. One reason that we think might be the cause is the size of the Cifar dataset. Cifar dataset is relatively small compared to the imagenet that was used by the originally resnet18 model. Therefore, with only ten classes, the feature extraction from resnet18 might not be well suited for Cifar dataset prediction because some learned features might not be applicable to the Cifar dataset."
   ]
  },
  {
   "cell_type": "code",
   "execution_count": null,
   "metadata": {},
   "outputs": [],
   "source": []
  }
 ],
 "metadata": {
  "kernelspec": {
   "display_name": "Python 3",
   "language": "python",
   "name": "python3"
  },
  "language_info": {
   "codemirror_mode": {
    "name": "ipython",
    "version": 3
   },
   "file_extension": ".py",
   "mimetype": "text/x-python",
   "name": "python",
   "nbconvert_exporter": "python",
   "pygments_lexer": "ipython3",
   "version": "3.7.4"
  }
 },
 "nbformat": 4,
 "nbformat_minor": 2
}
